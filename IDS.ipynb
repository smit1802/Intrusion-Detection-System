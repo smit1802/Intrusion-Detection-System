{
  "nbformat": 4,
  "nbformat_minor": 0,
  "metadata": {
    "colab": {
      "name": "IDS.ipynb",
      "provenance": [],
      "include_colab_link": true
    },
    "kernelspec": {
      "name": "python3",
      "display_name": "Python 3"
    },
    "language_info": {
      "name": "python"
    }
  },
  "cells": [
    {
      "cell_type": "markdown",
      "metadata": {
        "id": "view-in-github",
        "colab_type": "text"
      },
      "source": [
        "<a href=\"https://colab.research.google.com/github/smit1802/Intrusion-Detection-System/blob/main/IDS.ipynb\" target=\"_parent\"><img src=\"https://colab.research.google.com/assets/colab-badge.svg\" alt=\"Open In Colab\"/></a>"
      ]
    },
    {
      "cell_type": "code",
      "execution_count": null,
      "metadata": {
        "id": "QzMWdA8pLIv3"
      },
      "outputs": [],
      "source": [
        "\n",
        "import os\n",
        "import pandas as pd\n",
        "import numpy as np\n",
        "import matplotlib.pyplot as plt\n",
        "import seaborn as sns\n",
        "import time\n",
        "  \n"
      ]
    },
    {
      "cell_type": "code",
      "source": [
        "url= 'http://kdd.ics.uci.edu/databases/kddcup99/kddcup.data_10_percent.gz'\n",
        "df= pd.read_csv(url, header=None)\n",
        "df.head(10)"
      ],
      "metadata": {
        "id": "QTIcT7fANd4W",
        "colab": {
          "base_uri": "https://localhost:8080/",
          "height": 392
        },
        "outputId": "fa4847a2-fac2-41c3-d665-254d32dc15e4"
      },
      "execution_count": null,
      "outputs": [
        {
          "output_type": "execute_result",
          "data": {
            "text/plain": [
              "   0    1     2   3    4     5   6   7   8   9   ...  32   33   34    35  \\\n",
              "0   0  tcp  http  SF  181  5450   0   0   0   0  ...   9  1.0  0.0  0.11   \n",
              "1   0  tcp  http  SF  239   486   0   0   0   0  ...  19  1.0  0.0  0.05   \n",
              "2   0  tcp  http  SF  235  1337   0   0   0   0  ...  29  1.0  0.0  0.03   \n",
              "3   0  tcp  http  SF  219  1337   0   0   0   0  ...  39  1.0  0.0  0.03   \n",
              "4   0  tcp  http  SF  217  2032   0   0   0   0  ...  49  1.0  0.0  0.02   \n",
              "5   0  tcp  http  SF  217  2032   0   0   0   0  ...  59  1.0  0.0  0.02   \n",
              "6   0  tcp  http  SF  212  1940   0   0   0   0  ...  69  1.0  0.0  1.00   \n",
              "7   0  tcp  http  SF  159  4087   0   0   0   0  ...  79  1.0  0.0  0.09   \n",
              "8   0  tcp  http  SF  210   151   0   0   0   0  ...  89  1.0  0.0  0.12   \n",
              "9   0  tcp  http  SF  212   786   0   0   0   1  ...  99  1.0  0.0  0.12   \n",
              "\n",
              "     36   37   38   39   40       41  \n",
              "0  0.00  0.0  0.0  0.0  0.0  normal.  \n",
              "1  0.00  0.0  0.0  0.0  0.0  normal.  \n",
              "2  0.00  0.0  0.0  0.0  0.0  normal.  \n",
              "3  0.00  0.0  0.0  0.0  0.0  normal.  \n",
              "4  0.00  0.0  0.0  0.0  0.0  normal.  \n",
              "5  0.00  0.0  0.0  0.0  0.0  normal.  \n",
              "6  0.04  0.0  0.0  0.0  0.0  normal.  \n",
              "7  0.04  0.0  0.0  0.0  0.0  normal.  \n",
              "8  0.04  0.0  0.0  0.0  0.0  normal.  \n",
              "9  0.05  0.0  0.0  0.0  0.0  normal.  \n",
              "\n",
              "[10 rows x 42 columns]"
            ],
            "text/html": [
              "\n",
              "  <div id=\"df-12e1411d-88c4-49db-86d2-ac4f9ec12cac\">\n",
              "    <div class=\"colab-df-container\">\n",
              "      <div>\n",
              "<style scoped>\n",
              "    .dataframe tbody tr th:only-of-type {\n",
              "        vertical-align: middle;\n",
              "    }\n",
              "\n",
              "    .dataframe tbody tr th {\n",
              "        vertical-align: top;\n",
              "    }\n",
              "\n",
              "    .dataframe thead th {\n",
              "        text-align: right;\n",
              "    }\n",
              "</style>\n",
              "<table border=\"1\" class=\"dataframe\">\n",
              "  <thead>\n",
              "    <tr style=\"text-align: right;\">\n",
              "      <th></th>\n",
              "      <th>0</th>\n",
              "      <th>1</th>\n",
              "      <th>2</th>\n",
              "      <th>3</th>\n",
              "      <th>4</th>\n",
              "      <th>5</th>\n",
              "      <th>6</th>\n",
              "      <th>7</th>\n",
              "      <th>8</th>\n",
              "      <th>9</th>\n",
              "      <th>...</th>\n",
              "      <th>32</th>\n",
              "      <th>33</th>\n",
              "      <th>34</th>\n",
              "      <th>35</th>\n",
              "      <th>36</th>\n",
              "      <th>37</th>\n",
              "      <th>38</th>\n",
              "      <th>39</th>\n",
              "      <th>40</th>\n",
              "      <th>41</th>\n",
              "    </tr>\n",
              "  </thead>\n",
              "  <tbody>\n",
              "    <tr>\n",
              "      <th>0</th>\n",
              "      <td>0</td>\n",
              "      <td>tcp</td>\n",
              "      <td>http</td>\n",
              "      <td>SF</td>\n",
              "      <td>181</td>\n",
              "      <td>5450</td>\n",
              "      <td>0</td>\n",
              "      <td>0</td>\n",
              "      <td>0</td>\n",
              "      <td>0</td>\n",
              "      <td>...</td>\n",
              "      <td>9</td>\n",
              "      <td>1.0</td>\n",
              "      <td>0.0</td>\n",
              "      <td>0.11</td>\n",
              "      <td>0.00</td>\n",
              "      <td>0.0</td>\n",
              "      <td>0.0</td>\n",
              "      <td>0.0</td>\n",
              "      <td>0.0</td>\n",
              "      <td>normal.</td>\n",
              "    </tr>\n",
              "    <tr>\n",
              "      <th>1</th>\n",
              "      <td>0</td>\n",
              "      <td>tcp</td>\n",
              "      <td>http</td>\n",
              "      <td>SF</td>\n",
              "      <td>239</td>\n",
              "      <td>486</td>\n",
              "      <td>0</td>\n",
              "      <td>0</td>\n",
              "      <td>0</td>\n",
              "      <td>0</td>\n",
              "      <td>...</td>\n",
              "      <td>19</td>\n",
              "      <td>1.0</td>\n",
              "      <td>0.0</td>\n",
              "      <td>0.05</td>\n",
              "      <td>0.00</td>\n",
              "      <td>0.0</td>\n",
              "      <td>0.0</td>\n",
              "      <td>0.0</td>\n",
              "      <td>0.0</td>\n",
              "      <td>normal.</td>\n",
              "    </tr>\n",
              "    <tr>\n",
              "      <th>2</th>\n",
              "      <td>0</td>\n",
              "      <td>tcp</td>\n",
              "      <td>http</td>\n",
              "      <td>SF</td>\n",
              "      <td>235</td>\n",
              "      <td>1337</td>\n",
              "      <td>0</td>\n",
              "      <td>0</td>\n",
              "      <td>0</td>\n",
              "      <td>0</td>\n",
              "      <td>...</td>\n",
              "      <td>29</td>\n",
              "      <td>1.0</td>\n",
              "      <td>0.0</td>\n",
              "      <td>0.03</td>\n",
              "      <td>0.00</td>\n",
              "      <td>0.0</td>\n",
              "      <td>0.0</td>\n",
              "      <td>0.0</td>\n",
              "      <td>0.0</td>\n",
              "      <td>normal.</td>\n",
              "    </tr>\n",
              "    <tr>\n",
              "      <th>3</th>\n",
              "      <td>0</td>\n",
              "      <td>tcp</td>\n",
              "      <td>http</td>\n",
              "      <td>SF</td>\n",
              "      <td>219</td>\n",
              "      <td>1337</td>\n",
              "      <td>0</td>\n",
              "      <td>0</td>\n",
              "      <td>0</td>\n",
              "      <td>0</td>\n",
              "      <td>...</td>\n",
              "      <td>39</td>\n",
              "      <td>1.0</td>\n",
              "      <td>0.0</td>\n",
              "      <td>0.03</td>\n",
              "      <td>0.00</td>\n",
              "      <td>0.0</td>\n",
              "      <td>0.0</td>\n",
              "      <td>0.0</td>\n",
              "      <td>0.0</td>\n",
              "      <td>normal.</td>\n",
              "    </tr>\n",
              "    <tr>\n",
              "      <th>4</th>\n",
              "      <td>0</td>\n",
              "      <td>tcp</td>\n",
              "      <td>http</td>\n",
              "      <td>SF</td>\n",
              "      <td>217</td>\n",
              "      <td>2032</td>\n",
              "      <td>0</td>\n",
              "      <td>0</td>\n",
              "      <td>0</td>\n",
              "      <td>0</td>\n",
              "      <td>...</td>\n",
              "      <td>49</td>\n",
              "      <td>1.0</td>\n",
              "      <td>0.0</td>\n",
              "      <td>0.02</td>\n",
              "      <td>0.00</td>\n",
              "      <td>0.0</td>\n",
              "      <td>0.0</td>\n",
              "      <td>0.0</td>\n",
              "      <td>0.0</td>\n",
              "      <td>normal.</td>\n",
              "    </tr>\n",
              "    <tr>\n",
              "      <th>5</th>\n",
              "      <td>0</td>\n",
              "      <td>tcp</td>\n",
              "      <td>http</td>\n",
              "      <td>SF</td>\n",
              "      <td>217</td>\n",
              "      <td>2032</td>\n",
              "      <td>0</td>\n",
              "      <td>0</td>\n",
              "      <td>0</td>\n",
              "      <td>0</td>\n",
              "      <td>...</td>\n",
              "      <td>59</td>\n",
              "      <td>1.0</td>\n",
              "      <td>0.0</td>\n",
              "      <td>0.02</td>\n",
              "      <td>0.00</td>\n",
              "      <td>0.0</td>\n",
              "      <td>0.0</td>\n",
              "      <td>0.0</td>\n",
              "      <td>0.0</td>\n",
              "      <td>normal.</td>\n",
              "    </tr>\n",
              "    <tr>\n",
              "      <th>6</th>\n",
              "      <td>0</td>\n",
              "      <td>tcp</td>\n",
              "      <td>http</td>\n",
              "      <td>SF</td>\n",
              "      <td>212</td>\n",
              "      <td>1940</td>\n",
              "      <td>0</td>\n",
              "      <td>0</td>\n",
              "      <td>0</td>\n",
              "      <td>0</td>\n",
              "      <td>...</td>\n",
              "      <td>69</td>\n",
              "      <td>1.0</td>\n",
              "      <td>0.0</td>\n",
              "      <td>1.00</td>\n",
              "      <td>0.04</td>\n",
              "      <td>0.0</td>\n",
              "      <td>0.0</td>\n",
              "      <td>0.0</td>\n",
              "      <td>0.0</td>\n",
              "      <td>normal.</td>\n",
              "    </tr>\n",
              "    <tr>\n",
              "      <th>7</th>\n",
              "      <td>0</td>\n",
              "      <td>tcp</td>\n",
              "      <td>http</td>\n",
              "      <td>SF</td>\n",
              "      <td>159</td>\n",
              "      <td>4087</td>\n",
              "      <td>0</td>\n",
              "      <td>0</td>\n",
              "      <td>0</td>\n",
              "      <td>0</td>\n",
              "      <td>...</td>\n",
              "      <td>79</td>\n",
              "      <td>1.0</td>\n",
              "      <td>0.0</td>\n",
              "      <td>0.09</td>\n",
              "      <td>0.04</td>\n",
              "      <td>0.0</td>\n",
              "      <td>0.0</td>\n",
              "      <td>0.0</td>\n",
              "      <td>0.0</td>\n",
              "      <td>normal.</td>\n",
              "    </tr>\n",
              "    <tr>\n",
              "      <th>8</th>\n",
              "      <td>0</td>\n",
              "      <td>tcp</td>\n",
              "      <td>http</td>\n",
              "      <td>SF</td>\n",
              "      <td>210</td>\n",
              "      <td>151</td>\n",
              "      <td>0</td>\n",
              "      <td>0</td>\n",
              "      <td>0</td>\n",
              "      <td>0</td>\n",
              "      <td>...</td>\n",
              "      <td>89</td>\n",
              "      <td>1.0</td>\n",
              "      <td>0.0</td>\n",
              "      <td>0.12</td>\n",
              "      <td>0.04</td>\n",
              "      <td>0.0</td>\n",
              "      <td>0.0</td>\n",
              "      <td>0.0</td>\n",
              "      <td>0.0</td>\n",
              "      <td>normal.</td>\n",
              "    </tr>\n",
              "    <tr>\n",
              "      <th>9</th>\n",
              "      <td>0</td>\n",
              "      <td>tcp</td>\n",
              "      <td>http</td>\n",
              "      <td>SF</td>\n",
              "      <td>212</td>\n",
              "      <td>786</td>\n",
              "      <td>0</td>\n",
              "      <td>0</td>\n",
              "      <td>0</td>\n",
              "      <td>1</td>\n",
              "      <td>...</td>\n",
              "      <td>99</td>\n",
              "      <td>1.0</td>\n",
              "      <td>0.0</td>\n",
              "      <td>0.12</td>\n",
              "      <td>0.05</td>\n",
              "      <td>0.0</td>\n",
              "      <td>0.0</td>\n",
              "      <td>0.0</td>\n",
              "      <td>0.0</td>\n",
              "      <td>normal.</td>\n",
              "    </tr>\n",
              "  </tbody>\n",
              "</table>\n",
              "<p>10 rows × 42 columns</p>\n",
              "</div>\n",
              "      <button class=\"colab-df-convert\" onclick=\"convertToInteractive('df-12e1411d-88c4-49db-86d2-ac4f9ec12cac')\"\n",
              "              title=\"Convert this dataframe to an interactive table.\"\n",
              "              style=\"display:none;\">\n",
              "        \n",
              "  <svg xmlns=\"http://www.w3.org/2000/svg\" height=\"24px\"viewBox=\"0 0 24 24\"\n",
              "       width=\"24px\">\n",
              "    <path d=\"M0 0h24v24H0V0z\" fill=\"none\"/>\n",
              "    <path d=\"M18.56 5.44l.94 2.06.94-2.06 2.06-.94-2.06-.94-.94-2.06-.94 2.06-2.06.94zm-11 1L8.5 8.5l.94-2.06 2.06-.94-2.06-.94L8.5 2.5l-.94 2.06-2.06.94zm10 10l.94 2.06.94-2.06 2.06-.94-2.06-.94-.94-2.06-.94 2.06-2.06.94z\"/><path d=\"M17.41 7.96l-1.37-1.37c-.4-.4-.92-.59-1.43-.59-.52 0-1.04.2-1.43.59L10.3 9.45l-7.72 7.72c-.78.78-.78 2.05 0 2.83L4 21.41c.39.39.9.59 1.41.59.51 0 1.02-.2 1.41-.59l7.78-7.78 2.81-2.81c.8-.78.8-2.07 0-2.86zM5.41 20L4 18.59l7.72-7.72 1.47 1.35L5.41 20z\"/>\n",
              "  </svg>\n",
              "      </button>\n",
              "      \n",
              "  <style>\n",
              "    .colab-df-container {\n",
              "      display:flex;\n",
              "      flex-wrap:wrap;\n",
              "      gap: 12px;\n",
              "    }\n",
              "\n",
              "    .colab-df-convert {\n",
              "      background-color: #E8F0FE;\n",
              "      border: none;\n",
              "      border-radius: 50%;\n",
              "      cursor: pointer;\n",
              "      display: none;\n",
              "      fill: #1967D2;\n",
              "      height: 32px;\n",
              "      padding: 0 0 0 0;\n",
              "      width: 32px;\n",
              "    }\n",
              "\n",
              "    .colab-df-convert:hover {\n",
              "      background-color: #E2EBFA;\n",
              "      box-shadow: 0px 1px 2px rgba(60, 64, 67, 0.3), 0px 1px 3px 1px rgba(60, 64, 67, 0.15);\n",
              "      fill: #174EA6;\n",
              "    }\n",
              "\n",
              "    [theme=dark] .colab-df-convert {\n",
              "      background-color: #3B4455;\n",
              "      fill: #D2E3FC;\n",
              "    }\n",
              "\n",
              "    [theme=dark] .colab-df-convert:hover {\n",
              "      background-color: #434B5C;\n",
              "      box-shadow: 0px 1px 3px 1px rgba(0, 0, 0, 0.15);\n",
              "      filter: drop-shadow(0px 1px 2px rgba(0, 0, 0, 0.3));\n",
              "      fill: #FFFFFF;\n",
              "    }\n",
              "  </style>\n",
              "\n",
              "      <script>\n",
              "        const buttonEl =\n",
              "          document.querySelector('#df-12e1411d-88c4-49db-86d2-ac4f9ec12cac button.colab-df-convert');\n",
              "        buttonEl.style.display =\n",
              "          google.colab.kernel.accessAllowed ? 'block' : 'none';\n",
              "\n",
              "        async function convertToInteractive(key) {\n",
              "          const element = document.querySelector('#df-12e1411d-88c4-49db-86d2-ac4f9ec12cac');\n",
              "          const dataTable =\n",
              "            await google.colab.kernel.invokeFunction('convertToInteractive',\n",
              "                                                     [key], {});\n",
              "          if (!dataTable) return;\n",
              "\n",
              "          const docLinkHtml = 'Like what you see? Visit the ' +\n",
              "            '<a target=\"_blank\" href=https://colab.research.google.com/notebooks/data_table.ipynb>data table notebook</a>'\n",
              "            + ' to learn more about interactive tables.';\n",
              "          element.innerHTML = '';\n",
              "          dataTable['output_type'] = 'display_data';\n",
              "          await google.colab.output.renderOutput(dataTable, element);\n",
              "          const docLink = document.createElement('div');\n",
              "          docLink.innerHTML = docLinkHtml;\n",
              "          element.appendChild(docLink);\n",
              "        }\n",
              "      </script>\n",
              "    </div>\n",
              "  </div>\n",
              "  "
            ]
          },
          "metadata": {},
          "execution_count": 4
        }
      ]
    },
    {
      "cell_type": "code",
      "source": [
        "df.columns= [ 'duration','protocol_type', 'service', 'flag', 'src_bytes','dst_bytes','land','wrong_fragment','urgent','hot','num_failed_logins','logged_in',\n",
        "'num_compromised', 'root_shell', 'su_attempted', 'num_root', 'num_file_creations', 'num_shells', 'num_access_files', 'num_outbound_cmds',\n",
        "'is_host_login', 'is_guest_login','cnt','srv_count','serror_rate','srv_serror_rate','rerror_rate','srv_rerror_rate','same_srv_rate',\n",
        "'diff_srv_rate','srv_diff_host_rate','dst_host_count','dst_host_srv_count','dst_host_same_srv_rate','dst_host_diff_srv_rate','dst_host_same_src_port_rate',\n",
        "'dst_host_srv_diff_host_rate','dst_host_serror_rate','dst_host_srv_serror_rate','dst_host_rerror_rate','dst_host_srv_rerror_rate','outcome']\n",
        "print(df.describe())"
      ],
      "metadata": {
        "colab": {
          "base_uri": "https://localhost:8080/"
        },
        "id": "IeCgfrBzP1ku",
        "outputId": "ff7f0f0e-c031-4909-b630-eee90607b9d0"
      },
      "execution_count": null,
      "outputs": [
        {
          "output_type": "stream",
          "name": "stdout",
          "text": [
            "            duration     src_bytes     dst_bytes           land  \\\n",
            "count  494021.000000  4.940210e+05  4.940210e+05  494021.000000   \n",
            "mean       47.979302  3.025610e+03  8.685324e+02       0.000045   \n",
            "std       707.746472  9.882181e+05  3.304000e+04       0.006673   \n",
            "min         0.000000  0.000000e+00  0.000000e+00       0.000000   \n",
            "25%         0.000000  4.500000e+01  0.000000e+00       0.000000   \n",
            "50%         0.000000  5.200000e+02  0.000000e+00       0.000000   \n",
            "75%         0.000000  1.032000e+03  0.000000e+00       0.000000   \n",
            "max     58329.000000  6.933756e+08  5.155468e+06       1.000000   \n",
            "\n",
            "       wrong_fragment         urgent            hot  num_failed_logins  \\\n",
            "count   494021.000000  494021.000000  494021.000000      494021.000000   \n",
            "mean         0.006433       0.000014       0.034519           0.000152   \n",
            "std          0.134805       0.005510       0.782103           0.015520   \n",
            "min          0.000000       0.000000       0.000000           0.000000   \n",
            "25%          0.000000       0.000000       0.000000           0.000000   \n",
            "50%          0.000000       0.000000       0.000000           0.000000   \n",
            "75%          0.000000       0.000000       0.000000           0.000000   \n",
            "max          3.000000       3.000000      30.000000           5.000000   \n",
            "\n",
            "           logged_in  num_compromised  ...  dst_host_count  \\\n",
            "count  494021.000000    494021.000000  ...   494021.000000   \n",
            "mean        0.148247         0.010212  ...      232.470778   \n",
            "std         0.355345         1.798326  ...       64.745380   \n",
            "min         0.000000         0.000000  ...        0.000000   \n",
            "25%         0.000000         0.000000  ...      255.000000   \n",
            "50%         0.000000         0.000000  ...      255.000000   \n",
            "75%         0.000000         0.000000  ...      255.000000   \n",
            "max         1.000000       884.000000  ...      255.000000   \n",
            "\n",
            "       dst_host_srv_count  dst_host_same_srv_rate  dst_host_diff_srv_rate  \\\n",
            "count       494021.000000           494021.000000           494021.000000   \n",
            "mean           188.665670                0.753780                0.030906   \n",
            "std            106.040437                0.410781                0.109259   \n",
            "min              0.000000                0.000000                0.000000   \n",
            "25%             46.000000                0.410000                0.000000   \n",
            "50%            255.000000                1.000000                0.000000   \n",
            "75%            255.000000                1.000000                0.040000   \n",
            "max            255.000000                1.000000                1.000000   \n",
            "\n",
            "       dst_host_same_src_port_rate  dst_host_srv_diff_host_rate  \\\n",
            "count                494021.000000                494021.000000   \n",
            "mean                      0.601935                     0.006684   \n",
            "std                       0.481309                     0.042133   \n",
            "min                       0.000000                     0.000000   \n",
            "25%                       0.000000                     0.000000   \n",
            "50%                       1.000000                     0.000000   \n",
            "75%                       1.000000                     0.000000   \n",
            "max                       1.000000                     1.000000   \n",
            "\n",
            "       dst_host_serror_rate  dst_host_srv_serror_rate  dst_host_rerror_rate  \\\n",
            "count         494021.000000             494021.000000         494021.000000   \n",
            "mean               0.176754                  0.176443              0.058118   \n",
            "std                0.380593                  0.380919              0.230590   \n",
            "min                0.000000                  0.000000              0.000000   \n",
            "25%                0.000000                  0.000000              0.000000   \n",
            "50%                0.000000                  0.000000              0.000000   \n",
            "75%                0.000000                  0.000000              0.000000   \n",
            "max                1.000000                  1.000000              1.000000   \n",
            "\n",
            "       dst_host_srv_rerror_rate  \n",
            "count             494021.000000  \n",
            "mean                   0.057412  \n",
            "std                    0.230140  \n",
            "min                    0.000000  \n",
            "25%                    0.000000  \n",
            "50%                    0.000000  \n",
            "75%                    0.000000  \n",
            "max                    1.000000  \n",
            "\n",
            "[8 rows x 38 columns]\n"
          ]
        }
      ]
    },
    {
      "cell_type": "code",
      "source": [
        "df['outcome'].unique()\n"
      ],
      "metadata": {
        "colab": {
          "base_uri": "https://localhost:8080/"
        },
        "id": "Irvwy7iPQQBF",
        "outputId": "06b5bd14-0bb7-401e-dfa1-de5847223006"
      },
      "execution_count": null,
      "outputs": [
        {
          "output_type": "execute_result",
          "data": {
            "text/plain": [
              "array(['normal.', 'buffer_overflow.', 'loadmodule.', 'perl.', 'neptune.',\n",
              "       'smurf.', 'guess_passwd.', 'pod.', 'teardrop.', 'portsweep.',\n",
              "       'ipsweep.', 'land.', 'ftp_write.', 'back.', 'imap.', 'satan.',\n",
              "       'phf.', 'nmap.', 'multihop.', 'warezmaster.', 'warezclient.',\n",
              "       'spy.', 'rootkit.'], dtype=object)"
            ]
          },
          "metadata": {},
          "execution_count": 8
        }
      ]
    },
    {
      "cell_type": "code",
      "source": [
        "df=df.replace(to_replace =[\"ipsweep.\",\"portsweep.\",\"nmap.\",\"satan.\"],  value =\"probe\")\n",
        "df=df.replace(to_replace =[\"ftp_write.\", \"guess_passwd.\",\"imap.\",\"multihop.\",\"phf.\",\"spy.\", \"warezclient.\",\"warezmaster.\"],  value =\"r2l\")\n",
        "df=df.replace(to_replace =[\"buffer_overflow.\",\"loadmodule.\",\"perl.\", \"rootkit.\"],  value =\"u2r\")\n",
        "df=df.replace(to_replace =[\"back.\", \"land.\",\"neptune.\", \"pod.\",\"smurf.\",\"teardrop.\"],value =\"dos\")\n",
        "from collections import Counter\n",
        "Counter(df['outcome'])"
      ],
      "metadata": {
        "colab": {
          "base_uri": "https://localhost:8080/"
        },
        "id": "BfMOQ-0-QeX0",
        "outputId": "45c4e248-065d-4bcb-925d-c3077b8f6153"
      },
      "execution_count": null,
      "outputs": [
        {
          "output_type": "execute_result",
          "data": {
            "text/plain": [
              "Counter({'dos': 391458,\n",
              "         'normal.': 97278,\n",
              "         'probe': 4107,\n",
              "         'r2l': 1126,\n",
              "         'u2r': 52})"
            ]
          },
          "metadata": {},
          "execution_count": 9
        }
      ]
    },
    {
      "cell_type": "code",
      "source": [
        "from sklearn import preprocessing \n",
        "label_encoder = preprocessing.LabelEncoder()\n",
        "df['protocol_type']= label_encoder.fit_transform(df['protocol_type'])  \n",
        "df['service']= label_encoder.fit_transform(df['service'])  \n",
        "df['flag']= label_encoder.fit_transform(df['flag'])  \n",
        "df['outcome']= label_encoder.fit_transform(df['outcome'])  "
      ],
      "metadata": {
        "id": "m47kenJQQwRm"
      },
      "execution_count": null,
      "outputs": []
    },
    {
      "cell_type": "code",
      "source": [
        "corr = df.corr()\n",
        "plt.figure(figsize=(15,12))\n",
        "sns.heatmap(corr)\n",
        "plt.show()"
      ],
      "metadata": {
        "colab": {
          "base_uri": "https://localhost:8080/",
          "height": 838
        },
        "id": "r0yEBIefRS3t",
        "outputId": "17c6bee0-aa9f-4f49-f602-a21c030c52d7"
      },
      "execution_count": null,
      "outputs": [
        {
          "output_type": "display_data",
          "data": {
            "text/plain": [
              "<Figure size 1080x864 with 2 Axes>"
            ],
            "image/png": "[encoded data removed]"
          },
          "metadata": {
            "needs_background": "light"
          }
        }
      ]
    },
    {
      "cell_type": "code",
      "source": [
        "print('{:>30} {:>30} {:>30}'.format(*[\"Feature 1\",\"Feature 2\",\"Correlation\"]))\n",
        "x=[]\n",
        "c=corr\n",
        "for i in c:\n",
        "    for j in c:\n",
        "        if((corr[i][j]>0.97) and i!=j and (i not in x)):\n",
        "            l=len(i)+len(j)\n",
        "            print('{:>30} {:>30} {:>30}'.format(*[i,j,corr[i][j]]))\n",
        "            x.append(i)"
      ],
      "metadata": {
        "colab": {
          "base_uri": "https://localhost:8080/"
        },
        "id": "gwqcQxEWSZkp",
        "outputId": "8b6092c8-a072-46d0-c239-1a358cd5d7f8"
      },
      "execution_count": null,
      "outputs": [
        {
          "output_type": "stream",
          "name": "stdout",
          "text": [
            "                     Feature 1                      Feature 2                    Correlation\n",
            "               num_compromised                       num_root             0.9938277978737944\n",
            "                      num_root                num_compromised             0.9938277978737944\n",
            "                   serror_rate                srv_serror_rate             0.9983615072725139\n",
            "               srv_serror_rate                    serror_rate             0.9983615072725139\n",
            "                   rerror_rate                srv_rerror_rate             0.9947309539817971\n",
            "               srv_rerror_rate                    rerror_rate             0.9947309539817971\n",
            "            dst_host_srv_count         dst_host_same_srv_rate             0.9736854572954048\n",
            "        dst_host_same_srv_rate             dst_host_srv_count             0.9736854572954048\n",
            "          dst_host_serror_rate                    serror_rate              0.998672968010478\n",
            "      dst_host_srv_serror_rate                    serror_rate             0.9978492485679925\n",
            "          dst_host_rerror_rate                    rerror_rate             0.9869947924955955\n",
            "      dst_host_srv_rerror_rate                    rerror_rate             0.9851995540751263\n"
          ]
        }
      ]
    },
    {
      "cell_type": "code",
      "source": [
        "for i in x:\n",
        "    if(i in df.columns):\n",
        "        df.drop(i,axis=1,inplace=True)"
      ],
      "metadata": {
        "id": "h0J6ox5fTXXV"
      },
      "execution_count": null,
      "outputs": []
    },
    {
      "cell_type": "code",
      "source": [
        "df.drop('is_host_login',axis = 1, inplace=True)\n",
        "df.drop('num_outbound_cmds',axis = 1, inplace=True)"
      ],
      "metadata": {
        "id": "x4CGWdC8T6EC"
      },
      "execution_count": null,
      "outputs": []
    },
    {
      "cell_type": "code",
      "source": [
        "X= df.drop(['outcome'], axis=1)\n",
        "Y=df['outcome']\n",
        "from sklearn.model_selection import train_test_split\n",
        "X_train, X_test, y_train, y_test= train_test_split(X, Y, test_size=0.2, random_state=4 )"
      ],
      "metadata": {
        "id": "7Xqw1D7SVCb7"
      },
      "execution_count": null,
      "outputs": []
    },
    {
      "cell_type": "code",
      "source": [
        "from sklearn.model_selection import train_test_split\n",
        "from sklearn.metrics import confusion_matrix\n",
        "from sklearn import metrics\n",
        "from sklearn.ensemble import RandomForestClassifier\n",
        "from sklearn.datasets import make_classification\n",
        "\n",
        "\n",
        "rf = RandomForestClassifier(random_state=20,n_estimators=20)\n",
        "rf.fit(X_train, y_train)"
      ],
      "metadata": {
        "colab": {
          "base_uri": "https://localhost:8080/"
        },
        "id": "tzEcmYc6VHvm",
        "outputId": "61f1b252-493d-4cb4-f582-d39ce31c3cda"
      },
      "execution_count": null,
      "outputs": [
        {
          "output_type": "execute_result",
          "data": {
            "text/plain": [
              "RandomForestClassifier(n_estimators=20, random_state=20)"
            ]
          },
          "metadata": {},
          "execution_count": 20
        }
      ]
    },
    {
      "cell_type": "code",
      "source": [
        "y_preds=rf.predict(X_test)\n",
        "print(confusion_matrix(y_test, y_preds))\n",
        "print(\"Accuracy:\",metrics.accuracy_score(y_test,y_preds)) \n",
        "print(metrics.classification_report(y_test,y_preds))"
      ],
      "metadata": {
        "id": "AdExSgYTVMew",
        "outputId": "1ca8b733-55fa-4528-bf94-e5d6e34d26e8",
        "colab": {
          "base_uri": "https://localhost:8080/"
        }
      },
      "execution_count": null,
      "outputs": [
        {
          "output_type": "stream",
          "name": "stdout",
          "text": [
            "[[78251     4     0     0     0]\n",
            " [    2 19520     0     1     0]\n",
            " [    1     2   783     0     0]\n",
            " [    0     2     0   224     1]\n",
            " [    0     5     0     1     8]]\n",
            "Accuracy: 0.9998077020393705\n",
            "              precision    recall  f1-score   support\n",
            "\n",
            "           0       1.00      1.00      1.00     78255\n",
            "           1       1.00      1.00      1.00     19523\n",
            "           2       1.00      1.00      1.00       786\n",
            "           3       0.99      0.99      0.99       227\n",
            "           4       0.89      0.57      0.70        14\n",
            "\n",
            "    accuracy                           1.00     98805\n",
            "   macro avg       0.98      0.91      0.94     98805\n",
            "weighted avg       1.00      1.00      1.00     98805\n",
            "\n"
          ]
        }
      ]
    }
  ]
}